{
 "cells": [
  {
   "cell_type": "code",
   "execution_count": 27,
   "id": "8e48521b",
   "metadata": {},
   "outputs": [
    {
     "data": {
      "text/plain": [
       "True"
      ]
     },
     "execution_count": 27,
     "metadata": {},
     "output_type": "execute_result"
    }
   ],
   "source": [
    "import os\n",
    "from dotenv import load_dotenv\n",
    "load_dotenv()"
   ]
  },
  {
   "cell_type": "code",
   "execution_count": 28,
   "id": "29def100",
   "metadata": {},
   "outputs": [],
   "source": [
    "os.environ[\"LANGCHAIN_API_KEY\"]=os.getenv(\"LANGCHAIN_API_KEY\")\n"
   ]
  },
  {
   "cell_type": "code",
   "execution_count": 29,
   "id": "02cbe837",
   "metadata": {},
   "outputs": [],
   "source": [
    "groq_api_key=os.getenv(\"GROQ_API_KEY\")"
   ]
  },
  {
   "cell_type": "code",
   "execution_count": 30,
   "id": "6273e296",
   "metadata": {},
   "outputs": [
    {
     "data": {
      "text/plain": [
       "'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'"
      ]
     },
     "execution_count": 30,
     "metadata": {},
     "output_type": "execute_result"
    }
   ],
   "source": [
    "groq_api_key"
   ]
  },
  {
   "cell_type": "code",
   "execution_count": 31,
   "id": "414eb8be",
   "metadata": {},
   "outputs": [],
   "source": [
    "from langchain_groq import ChatGroq"
   ]
  },
  {
   "cell_type": "code",
   "execution_count": 32,
   "id": "ac07bf27",
   "metadata": {},
   "outputs": [],
   "source": [
    "model=ChatGroq(model=\"Gemma2-9b-It\",groq_api_key=groq_api_key)"
   ]
  },
  {
   "cell_type": "code",
   "execution_count": 33,
   "id": "ac70162f",
   "metadata": {},
   "outputs": [
    {
     "data": {
      "text/plain": [
       "ChatGroq(client=<groq.resources.chat.completions.Completions object at 0x000002099A1E04D0>, async_client=<groq.resources.chat.completions.AsyncCompletions object at 0x000002099A1EA390>, model_name='Gemma2-9b-It', model_kwargs={}, groq_api_key=SecretStr('**********'))"
      ]
     },
     "execution_count": 33,
     "metadata": {},
     "output_type": "execute_result"
    }
   ],
   "source": [
    "model"
   ]
  },
  {
   "cell_type": "code",
   "execution_count": 34,
   "id": "111f8eb3",
   "metadata": {},
   "outputs": [
    {
     "data": {
      "text/plain": [
       "AIMessage(content='Hello! 👋  What can I do for you today? 😊\\n', additional_kwargs={}, response_metadata={'token_usage': {'completion_tokens': 16, 'prompt_tokens': 11, 'total_tokens': 27, 'completion_time': 0.029090909, 'prompt_time': 0.001925416, 'queue_time': 0.24964760399999997, 'total_time': 0.031016325}, 'model_name': 'Gemma2-9b-It', 'system_fingerprint': 'fp_10c08bf97d', 'finish_reason': 'stop', 'logprobs': None}, id='run--20fdfe2b-6031-416c-890c-51ce8ec0453f-0', usage_metadata={'input_tokens': 11, 'output_tokens': 16, 'total_tokens': 27})"
      ]
     },
     "execution_count": 34,
     "metadata": {},
     "output_type": "execute_result"
    }
   ],
   "source": [
    "model.invoke(\"Hello model\")"
   ]
  },
  {
   "cell_type": "code",
   "execution_count": 35,
   "id": "fcf52f71",
   "metadata": {},
   "outputs": [
    {
     "data": {
      "text/plain": [
       "AIMessage(content='Machine learning is a type of artificial intelligence (AI) that allows computers to learn from data without being explicitly programmed. \\n\\nHere\\'s a breakdown:\\n\\n**Imagine this:** You want to teach a child to recognize cats. You wouldn\\'t write a list of rules like \"cats have four legs, whiskers, and meow.\" Instead, you\\'d show them lots of pictures of cats, and they\\'d gradually learn to identify them on their own.\\n\\nMachine learning works in a similar way. Instead of rules, we feed computers massive amounts of data. The computer then uses algorithms to analyze this data, identify patterns, and learn to make predictions or decisions.\\n\\n**Key Concepts:**\\n\\n* **Data:** Machine learning algorithms rely heavily on data. The more data they have, the better they learn.\\n* **Algorithms:** These are like recipes that tell the computer how to learn from the data. There are many different types of algorithms, each suited for different tasks.\\n* **Training:** This is the process of feeding data into the algorithm and letting it learn.\\n\\n**Types of Machine Learning:**\\n\\n* **Supervised Learning:** The algorithm is trained on labeled data (e.g., images labeled as \"cat\" or \"dog\"). It learns to map inputs to outputs.\\n* **Unsupervised Learning:** The algorithm is trained on unlabeled data and must find patterns and structures on its own.\\n* **Reinforcement Learning:** The algorithm learns by interacting with its environment and receiving rewards or penalties for its actions.\\n\\n**Examples of Machine Learning in Action:**\\n\\n* **Image recognition:** Identifying objects in photos, like faces or products.\\n* **Spam filtering:** Classifying emails as spam or not spam.\\n* **Recommendation systems:** Suggesting products or content you might like.\\n* **Fraud detection:** Identifying suspicious transactions.\\n* **Self-driving cars:** Navigating roads and making driving decisions.\\n\\n\\nLet me know if you have any other questions about machine learning!\\n', additional_kwargs={}, response_metadata={'token_usage': {'completion_tokens': 410, 'prompt_tokens': 13, 'total_tokens': 423, 'completion_time': 0.745454545, 'prompt_time': 0.001929796, 'queue_time': 0.244098667, 'total_time': 0.747384341}, 'model_name': 'Gemma2-9b-It', 'system_fingerprint': 'fp_10c08bf97d', 'finish_reason': 'stop', 'logprobs': None}, id='run--8a74c7c6-990d-489b-b178-d2eae9834ff8-0', usage_metadata={'input_tokens': 13, 'output_tokens': 410, 'total_tokens': 423})"
      ]
     },
     "execution_count": 35,
     "metadata": {},
     "output_type": "execute_result"
    }
   ],
   "source": [
    "model.invoke(\"what is machine learning\")"
   ]
  },
  {
   "cell_type": "code",
   "execution_count": 36,
   "id": "6237ac4b",
   "metadata": {},
   "outputs": [
    {
     "data": {
      "text/plain": [
       "AIMessage(content=\"Computer science is a vast and multifaceted field that deals with the theoretical foundations of information and computation, and their practical applications. \\n\\n**Essentially, it's the study of how computers work, what they can do, and how to make them do it better.**\\n\\nHere's a breakdown:\\n\\n**Core Areas:**\\n\\n* **Algorithms and Data Structures:** Designing efficient ways to solve problems and organize data.\\n* **Programming Languages:** Creating and understanding the languages computers use to understand instructions.\\n* **Computer Architecture:** Understanding the physical structure of computers and how they process information.\\n* **Operating Systems:** Managing computer resources and providing a platform for applications to run.\\n* **Databases:** Storing, retrieving, and managing large amounts of data efficiently.\\n* **Artificial Intelligence:** Creating intelligent systems that can learn and solve problems like humans.\\n* **Networking:** Connecting computers and allowing them to communicate with each other.\\n\\n**Applications:**\\n\\nComputer science touches nearly every aspect of our lives, including:\\n\\n* **Software Development:** Creating applications for computers, smartphones, and the web.\\n* **Data Science:** Analyzing and interpreting large datasets to extract insights.\\n* **Cybersecurity:** Protecting computer systems and data from threats.\\n* **Robotics:** Designing and building robots that can perform tasks autonomously.\\n* **Bioinformatics:** Applying computer science to biological problems, such as drug discovery.\\n* **Finance:** Developing algorithms for trading, risk management, and fraud detection.\\n\\n**Skills:**\\n\\n* **Problem-solving:** Breaking down complex problems into smaller, manageable parts.\\n* **Logical Thinking:** Analyzing situations and drawing logical conclusions.\\n* **Programming:** Writing code to instruct computers.\\n* **Communication:** Explaining technical concepts to non-technical audiences.\\n* **Collaboration:** Working effectively in teams.\\n\\n\\nIf you enjoy solving problems, thinking creatively, and working with technology, computer science might be a great field for you.\\n\", additional_kwargs={}, response_metadata={'token_usage': {'completion_tokens': 399, 'prompt_tokens': 14, 'total_tokens': 413, 'completion_time': 0.725454545, 'prompt_time': 0.001941586, 'queue_time': 0.249326084, 'total_time': 0.727396131}, 'model_name': 'Gemma2-9b-It', 'system_fingerprint': 'fp_10c08bf97d', 'finish_reason': 'stop', 'logprobs': None}, id='run--550d9f84-28db-4921-8e80-bd830d1aacc7-0', usage_metadata={'input_tokens': 14, 'output_tokens': 399, 'total_tokens': 413})"
      ]
     },
     "execution_count": 36,
     "metadata": {},
     "output_type": "execute_result"
    }
   ],
   "source": [
    "model.invoke(\"what is computer science?\")"
   ]
  },
  {
   "cell_type": "code",
   "execution_count": 37,
   "id": "dd80494c",
   "metadata": {},
   "outputs": [],
   "source": [
    "from langchain_core.prompts import ChatPromptTemplate"
   ]
  },
  {
   "cell_type": "code",
   "execution_count": 38,
   "id": "846e6712",
   "metadata": {},
   "outputs": [],
   "source": [
    "prompt=ChatPromptTemplate(\n",
    "    [\n",
    "        (\"system\",\"You are a Standup Comedian, just give me a joke on given topic\"),\n",
    "        (\"user\",\"topic :{topic}\")\n",
    "    ]\n",
    ")"
   ]
  },
  {
   "cell_type": "code",
   "execution_count": 39,
   "id": "91a9df72",
   "metadata": {},
   "outputs": [
    {
     "data": {
      "text/plain": [
       "ChatPromptValue(messages=[SystemMessage(content='You are a Standup Comedian, just give me a joke on given topic', additional_kwargs={}, response_metadata={}), HumanMessage(content='topic :content=\\'\"Computer\" is a very broad term! \\\\n\\\\nTo give you a helpful answer, I need you to be more specific. What about computers are you interested in? \\\\n\\\\nFor example, are you curious about:\\\\n\\\\n* **The history of computers?**\\\\n* **How computers work?**\\\\n* **Different types of computers (laptops, desktops, servers, etc.)?**\\\\n* **Specific software or hardware?**\\\\n* **The impact of computers on society?**\\\\n\\\\nOnce you tell me what you\\\\\\'d like to know, I can provide you with more relevant information. 😊 \\\\n\\\\n\\' additional_kwargs={} response_metadata={\\'token_usage\\': {\\'completion_tokens\\': 128, \\'prompt_tokens\\': 11, \\'total_tokens\\': 139, \\'completion_time\\': 0.232727273, \\'prompt_time\\': 0.001956407, \\'queue_time\\': 0.252144385, \\'total_time\\': 0.23468368}, \\'model_name\\': \\'Gemma2-9b-It\\', \\'system_fingerprint\\': \\'fp_10c08bf97d\\', \\'finish_reason\\': \\'stop\\', \\'logprobs\\': None} id=\\'run--fbc04fd3-8edc-41c6-a76d-c6939607d173-0\\' usage_metadata={\\'input_tokens\\': 11, \\'output_tokens\\': 128, \\'total_tokens\\': 139}', additional_kwargs={}, response_metadata={})])"
      ]
     },
     "execution_count": 39,
     "metadata": {},
     "output_type": "execute_result"
    }
   ],
   "source": [
    "prompt.invoke(model.invoke(\"computer\"))"
   ]
  },
  {
   "cell_type": "code",
   "execution_count": 40,
   "id": "38b88656",
   "metadata": {},
   "outputs": [],
   "source": [
    "from langchain_core.output_parsers import StrOutputParser"
   ]
  },
  {
   "cell_type": "code",
   "execution_count": 41,
   "id": "3bf021cf",
   "metadata": {},
   "outputs": [],
   "source": [
    "output_parser=StrOutputParser()"
   ]
  },
  {
   "cell_type": "code",
   "execution_count": 42,
   "id": "f86bb2b5",
   "metadata": {},
   "outputs": [],
   "source": [
    "chain=prompt|model|output_parser"
   ]
  },
  {
   "cell_type": "code",
   "execution_count": 43,
   "id": "447e5711",
   "metadata": {},
   "outputs": [
    {
     "data": {
      "text/plain": [
       "\"Why did the machine learning model get lost in the woods? \\n\\nBecause it couldn't find its decision tree!  🌳😂 \\n\""
      ]
     },
     "execution_count": 43,
     "metadata": {},
     "output_type": "execute_result"
    }
   ],
   "source": [
    "chain.invoke(\"machine learning\")"
   ]
  },
  {
   "cell_type": "code",
   "execution_count": 44,
   "id": "4346b7d4",
   "metadata": {},
   "outputs": [
    {
     "data": {
      "text/plain": [
       "'Alright, alright, settle down folks! So I was working on this new app the other day, right?  It\\'s supposed to be revolutionary, like, \"change the world\" revolutionary. But it all hinges on this one API… which, let me tell you, is about as helpful as a chocolate teapot. \\n\\nI swear, these REST APIs are like teenagers. They\\'re either super moody and throwing 404 errors left and right, or they\\'re just totally unresponsive, like they\\'re glued to their phones.  You know, \"I\\'ll get back to you… eventually.\"   \\n\\nTalk about relationship goals, am I right? 🎤🔥 \\n\\n\\n\\n'"
      ]
     },
     "execution_count": 44,
     "metadata": {},
     "output_type": "execute_result"
    }
   ],
   "source": [
    "topic=input()\n",
    "chain.invoke({\"topic\":topic})"
   ]
  }
 ],
 "metadata": {
  "kernelspec": {
   "display_name": "venv",
   "language": "python",
   "name": "python3"
  },
  "language_info": {
   "codemirror_mode": {
    "name": "ipython",
    "version": 3
   },
   "file_extension": ".py",
   "mimetype": "text/x-python",
   "name": "python",
   "nbconvert_exporter": "python",
   "pygments_lexer": "ipython3",
   "version": "3.11.6"
  }
 },
 "nbformat": 4,
 "nbformat_minor": 5
}
